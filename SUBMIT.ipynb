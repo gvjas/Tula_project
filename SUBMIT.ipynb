{
 "cells": [
  {
   "cell_type": "code",
   "execution_count": null,
   "metadata": {
    "id": "PH1ciUFHcsnj"
   },
   "outputs": [],
   "source": [
    "!cp /content/drive/MyDrive/Colab/Data/'Готовые задачи'/Калининград/participants/train/train.csv ./ \n",
    "!cp /content/drive/MyDrive/Colab/Data/'Готовые задачи'/Калининград/participants/test/test.csv ./ "
   ]
  },
  {
   "cell_type": "code",
   "execution_count": 2,
   "metadata": {
    "id": "E25l8C4adTU4"
   },
   "outputs": [],
   "source": [
    "#import необходимых модулей\n",
    "\n",
    "import pandas as pd\n",
    "import numpy as np\n",
    "import matplotlib.pyplot as plt\n",
    "# Machine Learning libraries\n",
    "from sklearn.pipeline import make_pipeline\n",
    "from sklearn.preprocessing import QuantileTransformer, MaxAbsScaler, StandardScaler, PolynomialFeatures\n",
    "from sklearn.tree import DecisionTreeRegressor, plot_tree\n",
    "from sklearn.linear_model import LinearRegression\n",
    "from sklearn.neighbors import KNeighborsRegressor\n",
    "# metrics\n",
    "from sklearn.metrics import  r2_score, mean_absolute_error, mean_absolute_percentage_error, mean_squared_error"
   ]
  },
  {
   "cell_type": "code",
   "execution_count": 3,
   "metadata": {},
   "outputs": [],
   "source": [
    "# Константы \n",
    "\n",
    "RANDOM_STATE = 0 # фиксирование случайного числа\n",
    "\n",
    "PREDICT_MONTH = 4 # номер месяц для прогноза\n",
    "PREDICT_YEAR = 2022 # год прогноза\n",
    "TRAIN_PERIOD = 3 # кол-во месяцев, предшествующих прогнозу, на которых будет обучаться модель (подобрано опытным путем)"
   ]
  },
  {
   "cell_type": "code",
   "execution_count": 4,
   "metadata": {},
   "outputs": [],
   "source": [
    "#Считывание данных в DataFrame \n",
    "\n",
    "train = pd.read_csv('train.csv', sep=';', index_col=None, \n",
    "                             dtype={'PATIENT_SEX':str, 'MKB_CODE':str, 'ADRES':str, \n",
    "                                    'VISIT_MONTH_YEAR':str, 'AGE_CATEGORY':str, 'PATIENT_ID_COUNT':int})\n",
    "test = pd.read_csv('test.csv', sep=';', index_col=None, \n",
    "                            dtype={'PATIENT_SEX':str, 'MKB_CODE':str, 'ADRES':str, \n",
    "                                   'VISIT_MONTH_YEAR':str, 'AGE_CATEGORY':str})"
   ]
  },
  {
   "cell_type": "code",
   "execution_count": 5,
   "metadata": {},
   "outputs": [
    {
     "name": "stdout",
     "output_type": "stream",
     "text": [
      "Wall time: 6.45 s\n"
     ]
    }
   ],
   "source": [
    "%%time\n",
    "# Преобразование формата VISIT_MONTH_YEAR в дату\n",
    "\n",
    "def add_hundreds_for_year(x):\n",
    "    return x[:3]+'20'+x[-2:]\n",
    "\n",
    "train['VISIT_MONTH_YEAR'] = train['VISIT_MONTH_YEAR'].apply(add_hundreds_for_year)\n",
    "train['VISIT_MONTH_YEAR'] = pd.to_datetime(train['VISIT_MONTH_YEAR'], format=\"%m.%Y\")\n",
    "test['VISIT_MONTH_YEAR'] = test['VISIT_MONTH_YEAR'].apply(add_hundreds_for_year)\n",
    "test['VISIT_MONTH_YEAR'] = pd.to_datetime(test['VISIT_MONTH_YEAR'], format=\"%m.%Y\")"
   ]
  },
  {
   "cell_type": "code",
   "execution_count": 6,
   "metadata": {},
   "outputs": [
    {
     "name": "stdout",
     "output_type": "stream",
     "text": [
      "Wall time: 181 ms\n"
     ]
    }
   ],
   "source": [
    "%%time\n",
    "# Создание списка дат, которые будут применятся для обучения модели\n",
    "train_dates = pd.date_range(end=f'{PREDICT_YEAR}-{PREDICT_MONTH}', periods=TRAIN_PERIOD+1, freq='MS')\n",
    "# и переопределение train по этим датам\n",
    "train = train[train['VISIT_MONTH_YEAR'].isin(train_dates[:-1])]"
   ]
  },
  {
   "cell_type": "code",
   "execution_count": 7,
   "metadata": {},
   "outputs": [],
   "source": [
    "# Сбор информации из train и cоздание словарей признаков, необходимых для обучения\n",
    "mkb_adres_patient_counts = train.groupby(['MKB_CODE', 'ADRES'])['PATIENT_ID_COUNT'].sum().to_dict()\n",
    "mkb_age_patient_counts = train.groupby(['MKB_CODE', 'AGE_CATEGORY'])['PATIENT_ID_COUNT'].sum().to_dict()\n",
    "mkb_sex_patient_counts = train.groupby(['MKB_CODE', 'PATIENT_SEX'])['PATIENT_ID_COUNT'].sum().to_dict()\n",
    "mkb_patient_counts = train.groupby(['MKB_CODE'])['PATIENT_ID_COUNT'].sum().to_dict()\n",
    "\n",
    "adres_counts = train.groupby(['ADRES'])['MKB_CODE'].count().to_dict()\n",
    "age_counts = train.groupby(['AGE_CATEGORY'])['MKB_CODE'].count().to_dict()\n",
    "sex_counts = train.groupby(['PATIENT_SEX'])['MKB_CODE'].count().to_dict()"
   ]
  },
  {
   "cell_type": "code",
   "execution_count": 8,
   "metadata": {},
   "outputs": [],
   "source": [
    "# Объединение train и test в один DataFrame, для облегчения добавления признаков\n",
    "train_test = pd.concat([train, test])\n",
    "\n",
    "# Добавление вспомогательных колонок для считывания признаков из словарей\n",
    "train_test['MKB_ADRES'] = list(zip(train_test['MKB_CODE'], train_test['ADRES']))\n",
    "train_test['MKB_SEX'] = list(zip(train_test['MKB_CODE'], train_test['PATIENT_SEX']))\n",
    "train_test['MKB_AGE'] = list(zip(train_test['MKB_CODE'], train_test['AGE_CATEGORY']))\n",
    "\n",
    "# Разделение кода на букву и на первые и вторые цифры\n",
    "train_test['MKB_CODE_ALPHA'] = train_test['MKB_CODE'].str[0]\n",
    "train_test['MKB_CODE_FIRST'] = train_test['MKB_CODE'].str.split('.').str[0].str[1:]\n",
    "train_test['MKB_CODE_SECOND'] = train_test['MKB_CODE'].str.split('.').str[1]\n",
    "train_test['MKB_CODE_SECOND'].fillna(-1, inplace=True)"
   ]
  },
  {
   "cell_type": "code",
   "execution_count": 9,
   "metadata": {},
   "outputs": [],
   "source": [
    "# Сортировка значений по-порядку\n",
    "train_test = train_test.sort_values(['PATIENT_SEX', 'MKB_CODE', 'ADRES', \n",
    "                                     'AGE_CATEGORY', 'VISIT_MONTH_YEAR'])\n",
    "\n",
    "# Добавление предшествующего месяца (транспонирование вышестоящего в строку)\n",
    "train_test['PREV_PATIENT_ID_COUNT'] = train_test.groupby(['PATIENT_SEX', 'MKB_CODE', 'ADRES', \n",
    "                                                          'AGE_CATEGORY'])['PATIENT_ID_COUNT'].shift()\n",
    "# Вычисление скользящей средней за два месяца (группировка не используется, потому что скользящая расчитана от 'сдвига',\n",
    "# где предыдущее NaN и, если нет необходимого window будет NaN, не произойдет расчета по значениям других групп)\n",
    "train_test['AVG_PATIENT_ID_COUNT'] = train_test['PREV_PATIENT_ID_COUNT'].rolling(window=TRAIN_PERIOD-1).mean()"
   ]
  },
  {
   "cell_type": "code",
   "execution_count": 10,
   "metadata": {},
   "outputs": [],
   "source": [
    "# Создание 'словарных' признаков\n",
    "train_test['PATIENT_MKB_COUNT'] = train_test['MKB_CODE'].apply(lambda x: mkb_patient_counts.get(x, 0))\n",
    "train_test['PATIENT_MKB_ADRES_COUNT'] = train_test['MKB_ADRES'].apply(lambda x: mkb_adres_patient_counts.get(x, 0))\n",
    "train_test['PATIENT_MKB_SEX_COUNT'] = train_test['MKB_SEX'].apply(lambda x: mkb_sex_patient_counts.get(x, 0))\n",
    "train_test['PATIENT_MKB_AGE_COUNT'] = train_test['MKB_AGE'].apply(lambda x: mkb_age_patient_counts.get(x, 0))\n",
    "\n",
    "train_test['PATIENT_ADRES_COUNT'] = train_test['ADRES'].apply(lambda x: adres_counts.get(x, 0))\n",
    "train_test['PATIENT_SEX_COUNT'] = train_test['PATIENT_SEX'].apply(lambda x: sex_counts.get(x, 0))\n",
    "train_test['PATIENT_AGE_COUNT'] = train_test['AGE_CATEGORY'].apply(lambda x: age_counts.get(x, 0))\n",
    "\n",
    "train_test['COUNT_MKB_VS_MKB_ADRES'] = (train_test['PATIENT_MKB_COUNT']\\\n",
    "                                        / train_test['PATIENT_MKB_ADRES_COUNT']).replace(np.inf, 0)\n",
    "\n",
    "train_test.fillna(0, inplace=True)"
   ]
  },
  {
   "cell_type": "code",
   "execution_count": 11,
   "metadata": {},
   "outputs": [],
   "source": [
    "# Разделение на train и test\n",
    "train_ = train_test[train_test['VISIT_MONTH_YEAR']!=train_dates[-1]].copy()\n",
    "test_ = train_test[train_test['VISIT_MONTH_YEAR']==train_dates[-1]].copy().sort_index()"
   ]
  },
  {
   "cell_type": "code",
   "execution_count": 12,
   "metadata": {},
   "outputs": [
    {
     "data": {
      "text/plain": [
       "IntervalIndex([(-1.0, 3.167], (3.167, 254.667], (254.667, inf]], dtype='interval[float64, right]')"
      ]
     },
     "execution_count": 12,
     "metadata": {},
     "output_type": "execute_result"
    }
   ],
   "source": [
    "# Поиск приемлемых значений из среднего по 'PATIENT_ID_COUNT' за три месяца для бинов (немного заглядывания в будущее) \n",
    "bins_features = ['PATIENT_SEX', 'MKB_CODE', 'ADRES', 'AGE_CATEGORY']\n",
    "train_test_patient_avg = train_.groupby(bins_features)[['PATIENT_ID_COUNT']].transform('mean')\n",
    "tree_X = train_test_patient_avg[train_['VISIT_MONTH_YEAR']==train_dates[-2]]\n",
    "tree_y = train_[train_['VISIT_MONTH_YEAR']==train_dates[-2]]['PATIENT_ID_COUNT']\n",
    "\n",
    "tree = DecisionTreeRegressor(max_depth=2, criterion=\"absolute_error\", random_state=RANDOM_STATE)\n",
    "tree.fit(tree_X, tree_y)\n",
    "\n",
    "bin_min = -1\n",
    "\n",
    "bin_1 = tree.tree_.threshold[1]\n",
    "bin_2 = tree.tree_.threshold[4]\n",
    "\n",
    "bin_max = np.inf\n",
    "bins = [bin_min, bin_1, bin_2, bin_max]\n",
    "\n",
    "# Создание признака по найденным бинам \n",
    "train_['PATIENT_ID_COUNT_BINS'] = pd.cut(train_test_patient_avg.values.flatten(), bins=bins)\n",
    "\n",
    "test_ = test_.merge(train_[bins_features+['PATIENT_ID_COUNT_BINS']].drop_duplicates(), \n",
    "                  how='left', on=bins_features, suffixes=('', '_BINS'))\n",
    "bins_ = train_['PATIENT_ID_COUNT_BINS'].cat.categories\n",
    "test_['PATIENT_ID_COUNT_BINS'].fillna(bins_[0], inplace=True)\n",
    "bins_"
   ]
  },
  {
   "cell_type": "code",
   "execution_count": 13,
   "metadata": {},
   "outputs": [
    {
     "data": {
      "text/plain": [
       "Index(['PATIENT_SEX', 'MKB_CODE', 'ADRES', 'VISIT_MONTH_YEAR', 'AGE_CATEGORY',\n",
       "       'PATIENT_ID_COUNT', 'MKB_ADRES', 'MKB_SEX', 'MKB_AGE', 'MKB_CODE_ALPHA',\n",
       "       'MKB_CODE_FIRST', 'MKB_CODE_SECOND', 'PREV_PATIENT_ID_COUNT',\n",
       "       'AVG_PATIENT_ID_COUNT', 'PATIENT_MKB_COUNT', 'PATIENT_MKB_ADRES_COUNT',\n",
       "       'PATIENT_MKB_SEX_COUNT', 'PATIENT_MKB_AGE_COUNT', 'PATIENT_ADRES_COUNT',\n",
       "       'PATIENT_SEX_COUNT', 'PATIENT_AGE_COUNT', 'COUNT_MKB_VS_MKB_ADRES',\n",
       "       'PATIENT_ID_COUNT_BINS'],\n",
       "      dtype='object')"
      ]
     },
     "execution_count": 13,
     "metadata": {},
     "output_type": "execute_result"
    }
   ],
   "source": [
    "# Выделение одного предыдущего месяца для train\n",
    "train_ = train_[train_['VISIT_MONTH_YEAR']==train_dates[-2]]\n",
    "\n",
    "# Разбивка train и test по бинам (каждый бин будет обучаться и прогнозироваться отдельно)\n",
    "train_bins_groups = dict(list(train_.groupby('PATIENT_ID_COUNT_BINS')))\n",
    "train_bin_1 = train_bins_groups[bins_[0]]\n",
    "train_bin_2 = train_bins_groups[bins_[1]]\n",
    "train_bin_max_ = train_bins_groups[bins_[2]]\n",
    "\n",
    "test_bins_groups = dict(list(test_.groupby('PATIENT_ID_COUNT_BINS')))\n",
    "test_bin_1 = test_bins_groups[bins_[0]]\n",
    "test_bin_2 = test_bins_groups[bins_[1]]\n",
    "test_bin_max_ = test_bins_groups[bins_[2]]\n",
    "train_.columns"
   ]
  },
  {
   "cell_type": "code",
   "execution_count": 14,
   "metadata": {},
   "outputs": [],
   "source": [
    "# Категориальные признаки\n",
    "cat_features = ['PATIENT_SEX', \n",
    "                'MKB_CODE_ALPHA', 'MKB_CODE_FIRST', 'MKB_CODE_SECOND', \n",
    "                'ADRES', 'AGE_CATEGORY']\n",
    "\n",
    "# Числовые признаки\n",
    "features = ['PREV_PATIENT_ID_COUNT', 'AVG_PATIENT_ID_COUNT',\n",
    "            'PATIENT_MKB_ADRES_COUNT', 'PATIENT_MKB_SEX_COUNT', \n",
    "            'PATIENT_MKB_AGE_COUNT', 'PATIENT_MKB_COUNT', \n",
    "            'PATIENT_ADRES_COUNT', 'PATIENT_SEX_COUNT', 'PATIENT_AGE_COUNT', \n",
    "            'COUNT_MKB_VS_MKB_ADRES']\n"
   ]
  },
  {
   "cell_type": "code",
   "execution_count": 15,
   "metadata": {},
   "outputs": [
    {
     "name": "stdout",
     "output_type": "stream",
     "text": [
      "X_bins shape 36298 == 36298 train shape\n",
      "\n",
      "X_bin_1: 28867 - 79.5 %\n",
      "X_bin_2: 7342 - 20.2 %\n",
      "X_bin_max: 89 - 0.2 %\n",
      "\n",
      "test_bins shape 39373 == 39373 test shape\n",
      "\n",
      "test_bin_1: 32062 - 81.4 %\n",
      "test_bin_2: 7222 - 18.3 %\n",
      "test_bin_max: 89 - 0.2 %\n"
     ]
    }
   ],
   "source": [
    "#Отделение меток от данных\n",
    "\n",
    "X_bin_1 = train_bin_1[features]\n",
    "y_bin_1 = train_bin_1['PATIENT_ID_COUNT']\n",
    "test_bin_1 = test_bin_1[features]\n",
    "\n",
    "X_bin_2 = train_bin_2[features]\n",
    "y_bin_2 = train_bin_2['PATIENT_ID_COUNT']\n",
    "test_bin_2 = test_bin_2[features]\n",
    "\n",
    "X_bin_max = train_bin_max_[cat_features+features]\n",
    "y_bin_max = train_bin_max_['PATIENT_ID_COUNT']\n",
    "# Кодировка признаков последнего бина\n",
    "test_bin_max = test_bin_max_[cat_features+features]\n",
    "train_test_bin_max = pd.concat([X_bin_max, test_bin_max])\n",
    "train_test_bin_max = pd.get_dummies(train_test_bin_max, drop_first=True, columns=cat_features, prefix='_')\n",
    "X_bin_max = train_test_bin_max[:X_bin_max.shape[0]]\n",
    "test_bin_max = train_test_bin_max[X_bin_max.shape[0]:]\n",
    "\n",
    "\n",
    "# Тестирование размерности разделенных бинов\n",
    "X_bins_shape = X_bin_max.shape[0] + X_bin_2.shape[0] + X_bin_1.shape[0]\n",
    "test_bins_shape = test_bin_max.shape[0] + test_bin_2.shape[0] + test_bin_1.shape[0]\n",
    "\n",
    "print('X_bins shape', X_bins_shape, '==',  train_.shape[0], 'train shape')\n",
    "print()\n",
    "print('X_bin_1:', X_bin_1.shape[0], '-', np.round(X_bin_1.shape[0]/train_.shape[0] * 100, 1), '%')\n",
    "print('X_bin_2:', X_bin_2.shape[0], '-', np.round(X_bin_2.shape[0]/train_.shape[0] * 100, 1), '%')\n",
    "print('X_bin_max:', X_bin_max.shape[0], '-', np.round(X_bin_max.shape[0]/train_.shape[0] * 100, 1), '%')\n",
    "\n",
    "print()\n",
    "print('test_bins shape', test_bins_shape, '==', test.shape[0], 'test shape')\n",
    "print()\n",
    "print('test_bin_1:', test_bin_1.shape[0], '-', np.round(test_bin_1.shape[0]/test_.shape[0] * 100, 1), '%')\n",
    "print('test_bin_2:', test_bin_2.shape[0], '-', np.round(test_bin_2.shape[0]/test_.shape[0] * 100, 1), '%')\n",
    "print('test_bin_max:', test_bin_max.shape[0], '-', np.round(test_bin_max.shape[0]/test_.shape[0] * 100, 1), '%')\n",
    "\n",
    "assert X_bins_shape == train_.shape[0]\n",
    "assert test_bins_shape == test_.shape[0]\n",
    "\n",
    "assert y_bin_max.shape[0] + y_bin_2.shape[0] + y_bin_1.shape[0] == train_['PATIENT_ID_COUNT'].shape[0]"
   ]
  },
  {
   "cell_type": "code",
   "execution_count": 16,
   "metadata": {
    "scrolled": false
   },
   "outputs": [
    {
     "name": "stdout",
     "output_type": "stream",
     "text": [
      "y_pred_solution_bin_1<0: [-1.7 -2.6 -0.2 -0.4 -0.9 -0.3 -1.1 -0.3 -0.2]\n",
      "y_pred_solution_bin_2<0: []\n",
      "y_pred_solution_bin_max<0: []\n"
     ]
    }
   ],
   "source": [
    "# Обучение моделей для каждого бина и добавление прогнозов к test\n",
    "\n",
    "# ______________________bin_1_________________\n",
    "\n",
    "model_solution_bin_1 = make_pipeline(MaxAbsScaler(), LinearRegression())\n",
    "model_solution_bin_1.fit(X_bin_1, y_bin_1)\n",
    "y_pred_solution_bin_1 = model_solution_bin_1.predict(test_bin_1)\n",
    "# Печать предсказанных отрицательных значений - показатель сбалансированности бина \n",
    "# (не должно быть много или большого отклонения в минус)\n",
    "print('y_pred_solution_bin_1<0:', np.round(y_pred_solution_bin_1[y_pred_solution_bin_1<0], 1))\n",
    "y_pred_solution_bin_1[y_pred_solution_bin_1<0] = y_bin_1.min()\n",
    "test.loc[test_bin_1.index, 'PATIENT_ID_COUNT'] = y_pred_solution_bin_1.astype(int)\n",
    "\n",
    "# ______________________bin_2_________________\n",
    "\n",
    "model_solution_bin_2 = KNeighborsRegressor(1, p=3)\n",
    "model_solution_bin_2.fit(X_bin_2, y_bin_2)\n",
    "y_pred_solution_bin_2 = model_solution_bin_2.predict(test_bin_2)\n",
    "print('y_pred_solution_bin_2<0:', np.round(y_pred_solution_bin_2[y_pred_solution_bin_2<0], 1))\n",
    "y_pred_solution_bin_2[y_pred_solution_bin_2<0] = y_bin_2.min()\n",
    "test.loc[test_bin_2.index, 'PATIENT_ID_COUNT'] = y_pred_solution_bin_2.astype(int)\n",
    "\n",
    "# ______________________bin_max_________________\n",
    "\n",
    "model_solution_bin_max = make_pipeline(MaxAbsScaler(), PolynomialFeatures(3), LinearRegression())\n",
    "model_solution_bin_max.fit(X_bin_max, y_bin_max)\n",
    "y_pred_solution_bin_max = model_solution_bin_max.predict(test_bin_max)\n",
    "print('y_pred_solution_bin_max<0:', np.round(y_pred_solution_bin_max[y_pred_solution_bin_max<0], 1))\n",
    "y_pred_solution_bin_max[y_pred_solution_bin_max<0] = y_bin_max.min()\n",
    "test.loc[test_bin_max.index, 'PATIENT_ID_COUNT'] = y_pred_solution_bin_max.astype(int)"
   ]
  },
  {
   "cell_type": "markdown",
   "metadata": {},
   "source": [
    "### Значимость признаков по DecisionTreeRegressor"
   ]
  },
  {
   "cell_type": "code",
   "execution_count": 17,
   "metadata": {},
   "outputs": [
    {
     "data": {
      "text/plain": [
       "PREV_PATIENT_ID_COUNT       5.116\n",
       "AVG_PATIENT_ID_COUNT        9.569\n",
       "PATIENT_MKB_ADRES_COUNT    24.085\n",
       "PATIENT_MKB_SEX_COUNT      11.142\n",
       "PATIENT_MKB_AGE_COUNT      15.550\n",
       "PATIENT_MKB_COUNT           9.242\n",
       "PATIENT_ADRES_COUNT         5.253\n",
       "PATIENT_SEX_COUNT           1.694\n",
       "PATIENT_AGE_COUNT           4.491\n",
       "COUNT_MKB_VS_MKB_ADRES     13.856\n",
       "dtype: float64"
      ]
     },
     "execution_count": 17,
     "metadata": {},
     "output_type": "execute_result"
    }
   ],
   "source": [
    "# бин 1\n",
    "tree_bin_1 = DecisionTreeRegressor()\n",
    "tree_bin_1.fit(X_bin_1, y_bin_1)\n",
    "pd.Series(np.round(tree_bin_1.feature_importances_ * 100, 3), index=X_bin_1.columns)"
   ]
  },
  {
   "cell_type": "code",
   "execution_count": 18,
   "metadata": {},
   "outputs": [
    {
     "data": {
      "text/plain": [
       "PREV_PATIENT_ID_COUNT       4.086\n",
       "AVG_PATIENT_ID_COUNT       64.860\n",
       "PATIENT_MKB_ADRES_COUNT     2.328\n",
       "PATIENT_MKB_SEX_COUNT       4.121\n",
       "PATIENT_MKB_AGE_COUNT       5.920\n",
       "PATIENT_MKB_COUNT           1.909\n",
       "PATIENT_ADRES_COUNT        10.589\n",
       "PATIENT_SEX_COUNT           0.567\n",
       "PATIENT_AGE_COUNT           1.423\n",
       "COUNT_MKB_VS_MKB_ADRES      4.198\n",
       "dtype: float64"
      ]
     },
     "execution_count": 18,
     "metadata": {},
     "output_type": "execute_result"
    }
   ],
   "source": [
    "# бин 2\n",
    "tree_bin_2 = DecisionTreeRegressor()\n",
    "tree_bin_2.fit(X_bin_2, y_bin_2)\n",
    "pd.Series(np.round(tree_bin_2.feature_importances_ * 100, 3), index=X_bin_2.columns)"
   ]
  },
  {
   "cell_type": "code",
   "execution_count": 19,
   "metadata": {},
   "outputs": [
    {
     "data": {
      "text/plain": [
       "PREV_PATIENT_ID_COUNT       9.852\n",
       "AVG_PATIENT_ID_COUNT       40.388\n",
       "PATIENT_MKB_ADRES_COUNT     0.421\n",
       "PATIENT_MKB_SEX_COUNT       0.198\n",
       "PATIENT_MKB_AGE_COUNT       2.706\n",
       "PATIENT_MKB_COUNT           0.365\n",
       "PATIENT_ADRES_COUNT         0.000\n",
       "PATIENT_SEX_COUNT           0.020\n",
       "PATIENT_AGE_COUNT          31.562\n",
       "COUNT_MKB_VS_MKB_ADRES      4.827\n",
       "__1                         0.277\n",
       "__J                         0.000\n",
       "__K                         0.000\n",
       "__M                         0.000\n",
       "__N                         0.000\n",
       "__O                         0.000\n",
       "__Z                         0.005\n",
       "__01                        0.000\n",
       "__02                        0.000\n",
       "__04                        0.000\n",
       "__06                        7.270\n",
       "__07                        0.000\n",
       "__11                        1.503\n",
       "__25                        0.000\n",
       "__32                        0.000\n",
       "__34                        0.000\n",
       "__35                        0.000\n",
       "__40                        0.000\n",
       "__42                        0.013\n",
       "__59                        0.000\n",
       "__71                        0.000\n",
       "__99                        0.000\n",
       "__0                         0.000\n",
       "__1                         0.000\n",
       "__2                         0.127\n",
       "__3                         0.000\n",
       "__4                         0.000\n",
       "__5                         0.086\n",
       "__7                         0.027\n",
       "__8                         0.014\n",
       "__9                         0.000\n",
       "__Гусев                     0.004\n",
       "__Калининград               0.000\n",
       "__elderly                   0.092\n",
       "__middleage                 0.018\n",
       "__old                       0.000\n",
       "__young                     0.224\n",
       "dtype: float64"
      ]
     },
     "execution_count": 19,
     "metadata": {},
     "output_type": "execute_result"
    }
   ],
   "source": [
    "# бин 3\n",
    "tree_bin_max = DecisionTreeRegressor()\n",
    "tree_bin_max.fit(X_bin_max, y_bin_max)\n",
    "pd.Series(np.round(tree_bin_max.feature_importances_ * 100, 3), index=X_bin_max.columns)"
   ]
  },
  {
   "cell_type": "code",
   "execution_count": 84,
   "metadata": {
    "id": "36FP3OirjB0n"
   },
   "outputs": [],
   "source": [
    "#Сохраняем в csv файл\n",
    " \n",
    "test.to_csv('solution.csv', sep=';', index=None)"
   ]
  },
  {
   "cell_type": "code",
   "execution_count": null,
   "metadata": {},
   "outputs": [],
   "source": []
  }
 ],
 "metadata": {
  "accelerator": "GPU",
  "colab": {
   "collapsed_sections": [],
   "name": "baseline.ipynb",
   "provenance": []
  },
  "gpuClass": "standard",
  "kernelspec": {
   "display_name": "Python 3 (ipykernel)",
   "language": "python",
   "name": "python3"
  },
  "language_info": {
   "codemirror_mode": {
    "name": "ipython",
    "version": 3
   },
   "file_extension": ".py",
   "mimetype": "text/x-python",
   "name": "python",
   "nbconvert_exporter": "python",
   "pygments_lexer": "ipython3",
   "version": "3.9.6"
  }
 },
 "nbformat": 4,
 "nbformat_minor": 1
}
